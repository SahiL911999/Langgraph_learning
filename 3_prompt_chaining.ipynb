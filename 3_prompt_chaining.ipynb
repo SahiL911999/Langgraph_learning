{
 "cells": [
  {
   "cell_type": "code",
   "execution_count": 34,
   "id": "4c599f99",
   "metadata": {},
   "outputs": [],
   "source": [
    "from langgraph.graph import StateGraph, START, END\n",
    "from langchain_groq import ChatGroq\n",
    "from typing import TypedDict\n",
    "from dotenv import load_dotenv \n"
   ]
  },
  {
   "cell_type": "code",
   "execution_count": 35,
   "id": "6279e02d",
   "metadata": {},
   "outputs": [],
   "source": [
    "load_dotenv()\n",
    "\n",
    "model = ChatGroq(model=\"llama3-8b-8192\")\n"
   ]
  },
  {
   "cell_type": "code",
   "execution_count": 36,
   "id": "292223cd",
   "metadata": {},
   "outputs": [],
   "source": [
    "class BlogState(TypedDict):\n",
    "    title: str\n",
    "    outline: str\n",
    "    content: str\n",
    "    evaluate: str"
   ]
  },
  {
   "cell_type": "code",
   "execution_count": 37,
   "id": "c7a801fa",
   "metadata": {},
   "outputs": [],
   "source": [
    "def create_outline(state: BlogState) -> BlogState:\n",
    "    # fetch title\n",
    "    title = state['title']\n",
    "\n",
    "    # call llm to create outline\n",
    "\n",
    "    prompt = f\"Create a blog outline for the title: {title}\"\n",
    "    outline = model.invoke(prompt).content\n",
    "\n",
    "    #update the state with the outline\n",
    "    state['outline'] = outline\n",
    "    return state"
   ]
  },
  {
   "cell_type": "code",
   "execution_count": 39,
   "id": "84bf30d1",
   "metadata": {},
   "outputs": [],
   "source": [
    "def create_blog(state: BlogState) -> BlogState:\n",
    "    title = state['title']\n",
    "    outline = state['outline']\n",
    "\n",
    "    prompt = f\"Create a blog for the title: {title} with the following outline: {outline}\"\n",
    "    content = model.invoke(prompt).content\n",
    "\n",
    "    state['content'] = content\n",
    "\n",
    "    return state"
   ]
  },
  {
   "cell_type": "code",
   "execution_count": 48,
   "id": "03aaf15b",
   "metadata": {},
   "outputs": [],
   "source": [
    "def create_evaluate(state: BlogState) -> BlogState:\n",
    "    title = state['title']\n",
    "    outline = state['outline']\n",
    "\n",
    "    prompt = f\"Evaluate the Blog and provide a score based on this: {title} with the following outline: {outline}\"\n",
    "    evaluate = model.invoke(prompt).content\n",
    "\n",
    "    state['evaluate'] = evaluate\n",
    "\n",
    "    return state"
   ]
  },
  {
   "cell_type": "code",
   "execution_count": 49,
   "id": "d0b728a3",
   "metadata": {},
   "outputs": [],
   "source": [
    "graph = StateGraph(BlogState)\n",
    "\n",
    "# nodes\n",
    "graph.add_node(\"create_outline\", create_outline)\n",
    "graph.add_node(\"create_blog\", create_blog)\n",
    "graph.add_node(\"create_evaluate\", create_evaluate)\n",
    "\n",
    "# edges\n",
    "graph.add_edge(START, \"create_outline\")\n",
    "graph.add_edge(\"create_outline\", \"create_blog\")\n",
    "graph.add_edge(\"create_blog\", \"create_evaluate\")\n",
    "graph.add_edge(\"create_evaluate\", END)\n",
    "\n",
    "workflow = graph.compile()"
   ]
  },
  {
   "cell_type": "code",
   "execution_count": 50,
   "id": "b555a225",
   "metadata": {},
   "outputs": [
    {
     "data": {
      "image/png": "[encoded data removed]",
      "text/plain": [
       "<IPython.core.display.Image object>"
      ]
     },
     "execution_count": 50,
     "metadata": {},
     "output_type": "execute_result"
    }
   ],
   "source": [
    "from IPython.display import Image\n",
    "Image(workflow.get_graph().draw_mermaid_png())"
   ]
  },
  {
   "cell_type": "code",
   "execution_count": 51,
   "id": "f6f9c790",
   "metadata": {},
   "outputs": [
    {
     "name": "stdout",
     "output_type": "stream",
     "text": [
      "{'title': 'Rise of AI in the World', 'outline': 'Here is a potential outline for a blog on the \"Rise of AI in the World\":\\n\\n**I. Introduction**\\n\\n* Brief overview of AI and its increasing presence in our daily lives\\n* Thesis statement: The rise of AI is transforming the world in significant ways, and it\\'s essential to understand the implications and opportunities it presents.\\n\\n**II. The Current State of AI**\\n\\n* Definition of AI and its types (narrow, general, superintelligent)\\n* Examples of AI applications in various industries (healthcare, finance, transportation, education, entertainment)\\n* Discussion of the benefits of AI (efficiency, accuracy, speed)\\n\\n**III. The Impact of AI on Jobs and Workforce**\\n\\n* Analysis of the impact of AI on employment (job displacement, creation of new jobs)\\n* Discussion of the skills required for workers to thrive in an AI-driven economy\\n* Examples of industries that are likely to be heavily impacted by AI (customer service, data entry, manufacturing)\\n\\n**IV. AI in Healthcare**\\n\\n* Overview of AI applications in healthcare (diagnosis, treatment, patient care)\\n* Examples of AI-powered healthcare tools and systems (personal health assistants, robotic surgery)\\n* Discussion of the potential for AI to improve healthcare outcomes and reduce costs\\n\\n**V. AI in Finance and Banking**\\n\\n* Overview of AI applications in finance and banking (risk management, fraud detection, investment analysis)\\n* Examples of AI-powered financial tools and systems (chatbots, robo-advisors, virtual assistants)\\n* Discussion of the potential for AI to improve financial services and reduce costs\\n\\n**VI. AI in Transportation**\\n\\n* Overview of AI applications in transportation (autonomous vehicles, smart traffic management, logistics optimization)\\n* Examples of AI-powered transportation systems (self-driving cars, drones, hyperloop)\\n* Discussion of the potential for AI to transform the transportation industry and reduce congestion\\n\\n**VII. AI in Education**\\n\\n* Overview of AI applications in education (personalized learning, intelligent tutoring systems, adaptive assessments)\\n* Examples of AI-powered educational tools and systems (online learning platforms, AI-powered grading systems)\\n* Discussion of the potential for AI to improve educational outcomes and reduce costs\\n\\n**VIII. Challenges and Concerns**\\n\\n* Discussion of the ethical and societal implications of AI (bias, privacy, job displacement)\\n* Analysis of the potential risks and challenges associated with AI development and deployment\\n* Examples of AI-related controversies and debates (AI-powered facial recognition, AI-generated content)\\n\\n**IX. Conclusion**\\n\\n* Recap of the rise of AI and its impact on various industries and aspects of our lives\\n* Call to action: Encouragement to explore AI and its applications, as well as to consider the ethical and societal implications of its development and deployment.\\n\\nThis is just one potential outline, and you can modify it to fit your specific goals and perspectives. I hope this helps!', 'content': \"**The Rise of AI in the World: Transforming Industries and Revolutionizing Lives**\\n\\nAs we navigate the complexities of the 21st century, one technology has emerged as a game-changer: Artificial Intelligence (AI). Once the stuff of science fiction, AI has become an integral part of our daily lives, transforming industries and revolutionizing the way we live, work, and interact with each other.\\n\\nIn this blog, we'll explore the rise of AI, its current state, and its impact on various industries, including healthcare, finance, transportation, education, and more. We'll also delve into the challenges and concerns surrounding AI, and discuss the ethical and societal implications of its development and deployment.\\n\\n**I. Introduction**\\n\\nArtificial Intelligence has been around for decades, but its rapid development and deployment in recent years has led to a significant increase in its presence in our daily lives. From virtual assistants like Siri and Alexa to self-driving cars and AI-powered healthcare tools, AI is transforming the way we live, work, and interact with each other. As AI continues to evolve and become more pervasive, it's essential to understand its implications and opportunities.\\n\\n**II. The Current State of AI**\\n\\nArtificial Intelligence is a broad term that encompasses a range of technologies, including machine learning, natural language processing, and computer vision. There are three main types of AI: narrow or weak AI, which is designed to perform a specific task; general AI, which is capable of performing any intellectual task; and superintelligent AI, which is exponentially more intelligent than human intelligence.\\n\\nAI is being applied in various industries, including healthcare, finance, transportation, education, and entertainment. In healthcare, AI is being used to analyze medical images, diagnose diseases, and develop personalized treatment plans. In finance, AI is being used to analyze financial data, detect fraud, and make investment decisions. In transportation, AI is being used to develop autonomous vehicles, optimize logistics, and improve traffic management.\\n\\n**III. The Impact of AI on Jobs and Workforce**\\n\\nThe rise of AI has significant implications for the workforce. While AI has the potential to increase efficiency and productivity, it also has the potential to displace jobs. According to a report by the McKinsey Global Institute, up to 800 million jobs could be lost worldwide due to automation by 2030.\\n\\nHowever, AI also has the potential to create new jobs and industries. For example, the rise of AI in healthcare has created new job opportunities in areas such as AI development, data analysis, and medical imaging.\\n\\n**IV. AI in Healthcare**\\n\\nAI is transforming the healthcare industry in several ways. AI-powered diagnostic tools can analyze medical images and diagnose diseases more accurately and quickly than human doctors. AI-powered chatbots can provide patients with personalized health advice and support. AI-powered robotic surgery can perform complex surgeries with greater precision and accuracy.\\n\\n**V. AI in Finance and Banking**\\n\\nAI is transforming the finance and banking industry in several ways. AI-powered chatbots can provide customers with personalized financial advice and support. AI-powered risk management systems can analyze financial data and identify potential risks. AI-powered fraud detection systems can detect and prevent fraudulent activities.\\n\\n**VI. AI in Transportation**\\n\\nAI is transforming the transportation industry in several ways. AI-powered autonomous vehicles can improve road safety and reduce traffic congestion. AI-powered logistics systems can optimize delivery routes and reduce costs. AI-powered traffic management systems can analyze traffic patterns and optimize traffic flow.\\n\\n**VII. AI in Education**\\n\\nAI is transforming the education industry in several ways. AI-powered adaptive learning systems can provide students with personalized learning experiences. AI-powered intelligent tutoring systems can provide students with real-time feedback and support. AI-powered grading systems can analyze student performance and provide accurate grades.\\n\\n**VIII. Challenges and Concerns**\\n\\nAs AI becomes more pervasive, it also raises several challenges and concerns. For example, AI has the potential to perpetuate biases and discrimination. AI has the potential to compromise privacy and security. AI has the potential to displace jobs and create social and economic inequalities.\\n\\n**IX. Conclusion**\\n\\nThe rise of AI is transforming industries and revolutionizing lives. As AI continues to evolve and become more pervasive, it's essential to understand its implications and opportunities. While AI has the potential to create new jobs and industries, it also has the potential to displace jobs and create social and economic inequalities. By exploring the benefits and challenges of AI, we can work towards creating a future where AI benefits humanity as a whole.\\n\\n**Call to Action**\\n\\nAs AI continues to transform industries and revolutionize lives, it's essential to stay informed and engaged. Here are a few ways you can get involved:\\n\\n* Learn more about AI and its applications\\n* Explore the benefits and challenges of AI\\n* Consider the ethical and societal implications of AI development and deployment\\n* Encourage policymakers and business leaders to prioritize AI development and deployment responsibly\\n\\nBy working together, we can create a future where AI benefits humanity as a whole.\", 'evaluate': 'I evaluated the blog based on the following criteria:\\n\\n* Clarity and organization: 9/10\\nThe outline is well-structured, and the sections flow logically from one to another. The language is straightforward, making it easy to follow.\\n* Depth and analysis: 8/10\\nThe outline provides a good overview of the rise of AI and its applications in various industries. However, some sections, such as the impact of AI on jobs and workforce, could benefit from more in-depth analysis and data.\\n* Originality and creativity: 7/10\\nThe outline does not introduce any new or revolutionary ideas, but it presents a comprehensive view of AI and its implications. The examples and applications are well-known and widely discussed.\\n* Engagement and tone: 8/10\\nThe outline maintains a neutral and informative tone, which is suitable for a blog on AI. However, it may benefit from a more conversational tone to engage readers.\\n* Relevance and timeliness: 9/10\\nThe topic of AI is highly relevant and timely, and the outline addresses current concerns and applications.\\n* Overall score: 8.4/10\\n\\nHere are some suggestions for improvement:\\n\\n* Add more specific examples and data to support the analysis in certain sections, such as the impact of AI on jobs and workforce.\\n* Consider adding a section on the potential benefits of AI, such as improved healthcare outcomes or increased efficiency in industries.\\n* Use more varied and engaging language to keep readers interested throughout the blog.\\n* Consider including quotes or perspectives from experts in the field to add depth and credibility.\\n\\nOverall, the outline provides a solid foundation for a comprehensive blog on the rise of AI in the world.'}\n"
     ]
    }
   ],
   "source": [
    "intial_state = {'title':\"Rise of AI in the World\"}\n",
    "\n",
    "final_state = workflow.invoke(intial_state)\n",
    "\n",
    "print(final_state)"
   ]
  },
  {
   "cell_type": "code",
   "execution_count": 52,
   "id": "a6335968",
   "metadata": {},
   "outputs": [
    {
     "name": "stdout",
     "output_type": "stream",
     "text": [
      "Here is a potential outline for a blog on the \"Rise of AI in the World\":\n",
      "\n",
      "**I. Introduction**\n",
      "\n",
      "* Brief overview of AI and its increasing presence in our daily lives\n",
      "* Thesis statement: The rise of AI is transforming the world in significant ways, and it's essential to understand the implications and opportunities it presents.\n",
      "\n",
      "**II. The Current State of AI**\n",
      "\n",
      "* Definition of AI and its types (narrow, general, superintelligent)\n",
      "* Examples of AI applications in various industries (healthcare, finance, transportation, education, entertainment)\n",
      "* Discussion of the benefits of AI (efficiency, accuracy, speed)\n",
      "\n",
      "**III. The Impact of AI on Jobs and Workforce**\n",
      "\n",
      "* Analysis of the impact of AI on employment (job displacement, creation of new jobs)\n",
      "* Discussion of the skills required for workers to thrive in an AI-driven economy\n",
      "* Examples of industries that are likely to be heavily impacted by AI (customer service, data entry, manufacturing)\n",
      "\n",
      "**IV. AI in Healthcare**\n",
      "\n",
      "* Overview of AI applications in healthcare (diagnosis, treatment, patient care)\n",
      "* Examples of AI-powered healthcare tools and systems (personal health assistants, robotic surgery)\n",
      "* Discussion of the potential for AI to improve healthcare outcomes and reduce costs\n",
      "\n",
      "**V. AI in Finance and Banking**\n",
      "\n",
      "* Overview of AI applications in finance and banking (risk management, fraud detection, investment analysis)\n",
      "* Examples of AI-powered financial tools and systems (chatbots, robo-advisors, virtual assistants)\n",
      "* Discussion of the potential for AI to improve financial services and reduce costs\n",
      "\n",
      "**VI. AI in Transportation**\n",
      "\n",
      "* Overview of AI applications in transportation (autonomous vehicles, smart traffic management, logistics optimization)\n",
      "* Examples of AI-powered transportation systems (self-driving cars, drones, hyperloop)\n",
      "* Discussion of the potential for AI to transform the transportation industry and reduce congestion\n",
      "\n",
      "**VII. AI in Education**\n",
      "\n",
      "* Overview of AI applications in education (personalized learning, intelligent tutoring systems, adaptive assessments)\n",
      "* Examples of AI-powered educational tools and systems (online learning platforms, AI-powered grading systems)\n",
      "* Discussion of the potential for AI to improve educational outcomes and reduce costs\n",
      "\n",
      "**VIII. Challenges and Concerns**\n",
      "\n",
      "* Discussion of the ethical and societal implications of AI (bias, privacy, job displacement)\n",
      "* Analysis of the potential risks and challenges associated with AI development and deployment\n",
      "* Examples of AI-related controversies and debates (AI-powered facial recognition, AI-generated content)\n",
      "\n",
      "**IX. Conclusion**\n",
      "\n",
      "* Recap of the rise of AI and its impact on various industries and aspects of our lives\n",
      "* Call to action: Encouragement to explore AI and its applications, as well as to consider the ethical and societal implications of its development and deployment.\n",
      "\n",
      "This is just one potential outline, and you can modify it to fit your specific goals and perspectives. I hope this helps!\n"
     ]
    }
   ],
   "source": [
    "print(final_state['outline'])"
   ]
  },
  {
   "cell_type": "code",
   "execution_count": 53,
   "id": "d78ae833",
   "metadata": {},
   "outputs": [
    {
     "name": "stdout",
     "output_type": "stream",
     "text": [
      "**The Rise of AI in the World: Transforming Industries and Revolutionizing Lives**\n",
      "\n",
      "As we navigate the complexities of the 21st century, one technology has emerged as a game-changer: Artificial Intelligence (AI). Once the stuff of science fiction, AI has become an integral part of our daily lives, transforming industries and revolutionizing the way we live, work, and interact with each other.\n",
      "\n",
      "In this blog, we'll explore the rise of AI, its current state, and its impact on various industries, including healthcare, finance, transportation, education, and more. We'll also delve into the challenges and concerns surrounding AI, and discuss the ethical and societal implications of its development and deployment.\n",
      "\n",
      "**I. Introduction**\n",
      "\n",
      "Artificial Intelligence has been around for decades, but its rapid development and deployment in recent years has led to a significant increase in its presence in our daily lives. From virtual assistants like Siri and Alexa to self-driving cars and AI-powered healthcare tools, AI is transforming the way we live, work, and interact with each other. As AI continues to evolve and become more pervasive, it's essential to understand its implications and opportunities.\n",
      "\n",
      "**II. The Current State of AI**\n",
      "\n",
      "Artificial Intelligence is a broad term that encompasses a range of technologies, including machine learning, natural language processing, and computer vision. There are three main types of AI: narrow or weak AI, which is designed to perform a specific task; general AI, which is capable of performing any intellectual task; and superintelligent AI, which is exponentially more intelligent than human intelligence.\n",
      "\n",
      "AI is being applied in various industries, including healthcare, finance, transportation, education, and entertainment. In healthcare, AI is being used to analyze medical images, diagnose diseases, and develop personalized treatment plans. In finance, AI is being used to analyze financial data, detect fraud, and make investment decisions. In transportation, AI is being used to develop autonomous vehicles, optimize logistics, and improve traffic management.\n",
      "\n",
      "**III. The Impact of AI on Jobs and Workforce**\n",
      "\n",
      "The rise of AI has significant implications for the workforce. While AI has the potential to increase efficiency and productivity, it also has the potential to displace jobs. According to a report by the McKinsey Global Institute, up to 800 million jobs could be lost worldwide due to automation by 2030.\n",
      "\n",
      "However, AI also has the potential to create new jobs and industries. For example, the rise of AI in healthcare has created new job opportunities in areas such as AI development, data analysis, and medical imaging.\n",
      "\n",
      "**IV. AI in Healthcare**\n",
      "\n",
      "AI is transforming the healthcare industry in several ways. AI-powered diagnostic tools can analyze medical images and diagnose diseases more accurately and quickly than human doctors. AI-powered chatbots can provide patients with personalized health advice and support. AI-powered robotic surgery can perform complex surgeries with greater precision and accuracy.\n",
      "\n",
      "**V. AI in Finance and Banking**\n",
      "\n",
      "AI is transforming the finance and banking industry in several ways. AI-powered chatbots can provide customers with personalized financial advice and support. AI-powered risk management systems can analyze financial data and identify potential risks. AI-powered fraud detection systems can detect and prevent fraudulent activities.\n",
      "\n",
      "**VI. AI in Transportation**\n",
      "\n",
      "AI is transforming the transportation industry in several ways. AI-powered autonomous vehicles can improve road safety and reduce traffic congestion. AI-powered logistics systems can optimize delivery routes and reduce costs. AI-powered traffic management systems can analyze traffic patterns and optimize traffic flow.\n",
      "\n",
      "**VII. AI in Education**\n",
      "\n",
      "AI is transforming the education industry in several ways. AI-powered adaptive learning systems can provide students with personalized learning experiences. AI-powered intelligent tutoring systems can provide students with real-time feedback and support. AI-powered grading systems can analyze student performance and provide accurate grades.\n",
      "\n",
      "**VIII. Challenges and Concerns**\n",
      "\n",
      "As AI becomes more pervasive, it also raises several challenges and concerns. For example, AI has the potential to perpetuate biases and discrimination. AI has the potential to compromise privacy and security. AI has the potential to displace jobs and create social and economic inequalities.\n",
      "\n",
      "**IX. Conclusion**\n",
      "\n",
      "The rise of AI is transforming industries and revolutionizing lives. As AI continues to evolve and become more pervasive, it's essential to understand its implications and opportunities. While AI has the potential to create new jobs and industries, it also has the potential to displace jobs and create social and economic inequalities. By exploring the benefits and challenges of AI, we can work towards creating a future where AI benefits humanity as a whole.\n",
      "\n",
      "**Call to Action**\n",
      "\n",
      "As AI continues to transform industries and revolutionize lives, it's essential to stay informed and engaged. Here are a few ways you can get involved:\n",
      "\n",
      "* Learn more about AI and its applications\n",
      "* Explore the benefits and challenges of AI\n",
      "* Consider the ethical and societal implications of AI development and deployment\n",
      "* Encourage policymakers and business leaders to prioritize AI development and deployment responsibly\n",
      "\n",
      "By working together, we can create a future where AI benefits humanity as a whole.\n"
     ]
    }
   ],
   "source": [
    "print(final_state['content'])"
   ]
  },
  {
   "cell_type": "code",
   "execution_count": 54,
   "id": "8cd6fbac",
   "metadata": {},
   "outputs": [
    {
     "name": "stdout",
     "output_type": "stream",
     "text": [
      "I evaluated the blog based on the following criteria:\n",
      "\n",
      "* Clarity and organization: 9/10\n",
      "The outline is well-structured, and the sections flow logically from one to another. The language is straightforward, making it easy to follow.\n",
      "* Depth and analysis: 8/10\n",
      "The outline provides a good overview of the rise of AI and its applications in various industries. However, some sections, such as the impact of AI on jobs and workforce, could benefit from more in-depth analysis and data.\n",
      "* Originality and creativity: 7/10\n",
      "The outline does not introduce any new or revolutionary ideas, but it presents a comprehensive view of AI and its implications. The examples and applications are well-known and widely discussed.\n",
      "* Engagement and tone: 8/10\n",
      "The outline maintains a neutral and informative tone, which is suitable for a blog on AI. However, it may benefit from a more conversational tone to engage readers.\n",
      "* Relevance and timeliness: 9/10\n",
      "The topic of AI is highly relevant and timely, and the outline addresses current concerns and applications.\n",
      "* Overall score: 8.4/10\n",
      "\n",
      "Here are some suggestions for improvement:\n",
      "\n",
      "* Add more specific examples and data to support the analysis in certain sections, such as the impact of AI on jobs and workforce.\n",
      "* Consider adding a section on the potential benefits of AI, such as improved healthcare outcomes or increased efficiency in industries.\n",
      "* Use more varied and engaging language to keep readers interested throughout the blog.\n",
      "* Consider including quotes or perspectives from experts in the field to add depth and credibility.\n",
      "\n",
      "Overall, the outline provides a solid foundation for a comprehensive blog on the rise of AI in the world.\n"
     ]
    }
   ],
   "source": [
    "print(final_state['evaluate'])"
   ]
  },
  {
   "cell_type": "code",
   "execution_count": null,
   "id": "caca57ae",
   "metadata": {},
   "outputs": [],
   "source": []
  }
 ],
 "metadata": {
  "kernelspec": {
   "display_name": "myenv",
   "language": "python",
   "name": "python3"
  },
  "language_info": {
   "codemirror_mode": {
    "name": "ipython",
    "version": 3
   },
   "file_extension": ".py",
   "mimetype": "text/x-python",
   "name": "python",
   "nbconvert_exporter": "python",
   "pygments_lexer": "ipython3",
   "version": "3.12.7"
  }
 },
 "nbformat": 4,
 "nbformat_minor": 5
}
